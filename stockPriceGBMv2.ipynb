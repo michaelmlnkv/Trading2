{
 "cells": [
  {
   "cell_type": "code",
   "execution_count": 2,
   "metadata": {},
   "outputs": [],
   "source": [
    "import datetime\n",
    "import yfinance as yf\n",
    "import statsmodels.tsa.stattools as sm\n",
    "import seaborn\n",
    "import numpy as np\n",
    "import matplotlib.pyplot as plt\n",
    "import pandas as pd"
   ]
  },
  {
   "cell_type": "code",
   "execution_count": 3,
   "metadata": {},
   "outputs": [],
   "source": [
    "stock = 'aapl'\n",
    "train_start = '2020-01-01'\n",
    "train_end = pd.Timestamp('2023-10-31', tz='America/New_York')\n",
    "sim_start = '2023-10-30'\n",
    "sim_end = pd.Timestamp('2023-12-31', tz='America/New_York')\n",
    "scen_size = 10000"
   ]
  },
  {
   "cell_type": "code",
   "execution_count": 4,
   "metadata": {},
   "outputs": [],
   "source": [
    "ticker = yf.Ticker(stock)"
   ]
  },
  {
   "cell_type": "code",
   "execution_count": 47,
   "metadata": {},
   "outputs": [],
   "source": [
    "train_set = ticker.history(start=train_start, end=train_end)['Close']\n",
    "test_set = ticker.history(start=sim_start, end=sim_end)['Close']"
   ]
  },
  {
   "cell_type": "code",
   "execution_count": 48,
   "metadata": {},
   "outputs": [],
   "source": [
    "s0 = train_set.iloc[-1]\n",
    "dt = 1\n",
    "T = len(test_set)\n",
    "N = T / dt"
   ]
  },
  {
   "cell_type": "code",
   "execution_count": 49,
   "metadata": {},
   "outputs": [],
   "source": [
    "daily_returns = ((train_set / train_set.shift(1)) - 1)[1:]\n",
    "mu = np.mean(daily_returns)\n",
    "sigma = np.std(daily_returns)\n",
    "drift = mu - 0.5 * sigma ** 2"
   ]
  },
  {
   "cell_type": "code",
   "execution_count": 57,
   "metadata": {},
   "outputs": [
    {
     "data": {
      "text/plain": [
       "0.0008762863094788976"
      ]
     },
     "execution_count": 57,
     "metadata": {},
     "output_type": "execute_result"
    }
   ],
   "source": [
    "drift"
   ]
  },
  {
   "cell_type": "code",
   "execution_count": 90,
   "metadata": {},
   "outputs": [],
   "source": [
    "sim = np.array([])\n",
    "for _ in range(scen_size):\n",
    "    S = [s0]\n",
    "    for t in range(int(N)):\n",
    "        rand_var = np.random.normal(0,1)\n",
    "        new_s = S[-1] * np.exp(drift + sigma * rand_var)\n",
    "        S.append(new_s)\n",
    "    S = S[:len(S) - 1]\n",
    "    S = pd.Series(S, index=test_set.index)\n",
    "    sim.append(S)"
   ]
  },
  {
   "cell_type": "code",
   "execution_count": 99,
   "metadata": {},
   "outputs": [
    {
     "data": {
      "text/plain": [
       "array([1.])"
      ]
     },
     "execution_count": 99,
     "metadata": {},
     "output_type": "execute_result"
    }
   ],
   "source": [
    "sim = np.array([])\n",
    "np.append(sim, [1])"
   ]
  },
  {
   "cell_type": "code",
   "execution_count": 100,
   "metadata": {},
   "outputs": [
    {
     "data": {
      "text/plain": [
       "array([], dtype=float64)"
      ]
     },
     "execution_count": 100,
     "metadata": {},
     "output_type": "execute_result"
    }
   ],
   "source": [
    "sim"
   ]
  }
 ],
 "metadata": {
  "kernelspec": {
   "display_name": "Python 3",
   "language": "python",
   "name": "python3"
  },
  "language_info": {
   "codemirror_mode": {
    "name": "ipython",
    "version": 3
   },
   "file_extension": ".py",
   "mimetype": "text/x-python",
   "name": "python",
   "nbconvert_exporter": "python",
   "pygments_lexer": "ipython3",
   "version": "3.9.6"
  },
  "orig_nbformat": 4,
  "vscode": {
   "interpreter": {
    "hash": "31f2aee4e71d21fbe5cf8b01ff0e069b9275f58929596ceb00d14d90e3e16cd6"
   }
  }
 },
 "nbformat": 4,
 "nbformat_minor": 2
}
